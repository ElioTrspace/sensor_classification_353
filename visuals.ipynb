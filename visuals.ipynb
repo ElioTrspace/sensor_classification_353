{
 "cells": [
  {
   "cell_type": "code",
   "execution_count": null,
   "id": "19ca0645-3d31-46f7-87e9-c8753f515f40",
   "metadata": {},
   "outputs": [],
   "source": [
    "import pandas as pd\n",
    "import matplotlib.pyplot as plt\n",
    "import seaborn as sns\n",
    "\n",
    "merged_df = pd.read_csv('merged_dataset.csv')"
   ]
  },
  {
   "cell_type": "code",
   "execution_count": null,
   "id": "6ee1072b-025c-4ade-9028-380ee7754e5e",
   "metadata": {},
   "outputs": [],
   "source": [
    "plt.figure(figsize=(12,4))\n",
    "plt.plot(merged_df['time'], merged_df['rms'])\n",
    "plt.xlabel('Time')\n",
    "plt.ylabel('RMS')\n",
    "plt.title('Audio RMS Over Time')\n",
    "plt.savefig('audio_rms.svg')\n",
    "plt.show()"
   ]
  },
  {
   "cell_type": "code",
   "execution_count": null,
   "id": "5e025b61-65c2-463c-8679-102cf52f1fc1",
   "metadata": {},
   "outputs": [],
   "source": [
    "sensor_cols = ['ax','ay','az','wx','wy','wz']\n",
    "for col in sensor_cols:\n",
    "    plt.figure(figsize=(8,4))\n",
    "    sns.histplot(merged_df[col], kde=True)\n",
    "    plt.title(f'{col} Distribution')\n",
    "    plt.savefig(f'{col}_dist.svg')\n",
    "    plt.show()"
   ]
  },
  {
   "cell_type": "code",
   "execution_count": null,
   "id": "c24b3051-1f7a-4db2-81c4-cb7c386b123e",
   "metadata": {},
   "outputs": [],
   "source": [
    "plt.figure(figsize=(6,4))\n",
    "sns.countplot(x='day_or_night_1', data=merged_df)\n",
    "plt.title('Day vs Night Samples')\n",
    "plt.savefig('day_night_count.svg')\n",
    "plt.show()"
   ]
  },
  {
   "cell_type": "code",
   "execution_count": null,
   "id": "4e23709f-db05-47fe-95af-f28496250b4f",
   "metadata": {},
   "outputs": [],
   "source": []
  }
 ],
 "metadata": {
  "kernelspec": {
   "display_name": "Python 3 (ipykernel)",
   "language": "python",
   "name": "python3"
  },
  "language_info": {
   "codemirror_mode": {
    "name": "ipython",
    "version": 3
   },
   "file_extension": ".py",
   "mimetype": "text/x-python",
   "name": "python",
   "nbconvert_exporter": "python",
   "pygments_lexer": "ipython3",
   "version": "3.11.9"
  }
 },
 "nbformat": 4,
 "nbformat_minor": 5
}
